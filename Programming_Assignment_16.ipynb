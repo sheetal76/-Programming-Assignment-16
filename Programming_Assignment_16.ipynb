{
  "nbformat": 4,
  "nbformat_minor": 0,
  "metadata": {
    "colab": {
      "provenance": []
    },
    "kernelspec": {
      "name": "python3",
      "display_name": "Python 3"
    },
    "language_info": {
      "name": "python"
    }
  },
  "cells": [
    {
      "cell_type": "code",
      "execution_count": null,
      "metadata": {
        "id": "epITCaSgmqB9"
      },
      "outputs": [],
      "source": [
        "#1. Write a function that stutters a word as if someone is struggling to read it. The first two letters are repeated twice with an ellipsis\n",
        " #... and space after each, and then the word is pronounced with a question mark ?. Examples stutter('incredible') ➞ 'in...\n",
        "  #in... incredible?' stutter('enthusiastic') ➞ 'en... en... enthusiastic?' stutter('outstanding') ➞ 'ou... ou... outstanding?'\n",
        "#Hint :- Assume all input is in lower case and at least two characters long.\n"
      ]
    },
    {
      "cell_type": "code",
      "source": [
        "def stutter(word):\n",
        "    if len(word) >= 2:\n",
        "        stuttered_word = f\"{word[:2]}... {word[:2]}... {word}?\"\n",
        "        return stuttered_word\n",
        "    else:\n",
        "        return \"Word should be at least two characters long.\"\n",
        "\n",
        "print(stutter('incredible'))\n",
        "print(stutter('enthusiastic'))\n"
      ],
      "metadata": {
        "colab": {
          "base_uri": "https://localhost:8080/"
        },
        "id": "-y9UpsczpNsV",
        "outputId": "9bd17754-46e8-4f9d-8dde-403bf3ecd8ef"
      },
      "execution_count": 5,
      "outputs": [
        {
          "output_type": "stream",
          "name": "stdout",
          "text": [
            "in... in... incredible?\n",
            "en... en... enthusiastic?\n"
          ]
        }
      ]
    },
    {
      "cell_type": "code",
      "source": [
        "#2. Create a function that takes an angle in radians and returns the corresponding angle in degrees rounded to one decimal place."
      ],
      "metadata": {
        "id": "j_Ax8jo5myIO"
      },
      "execution_count": 1,
      "outputs": []
    },
    {
      "cell_type": "code",
      "source": [
        "import math\n",
        "\n",
        "def radians_to_degrees(angle_in_radians):\n",
        "  angle_in_degrees = math.degrees(angle_in_radians)\n",
        "  rounded_angle = round(angle_in_degrees, 1)\n",
        "  return rounded_angle\n",
        "\n",
        "\n",
        "angle_in_radians = 2.5  # Replace with the desired angle in radians\n",
        "result = radians_to_degrees(angle_in_radians)\n",
        "print(f\"{angle_in_radians} radians is approximately {result} degrees.\")\n"
      ],
      "metadata": {
        "colab": {
          "base_uri": "https://localhost:8080/"
        },
        "id": "YVv0s2rvqCZJ",
        "outputId": "3d6b4920-f4b7-499b-e7cc-2ff56781ea00"
      },
      "execution_count": 6,
      "outputs": [
        {
          "output_type": "stream",
          "name": "stdout",
          "text": [
            "2.5 radians is approximately 143.2 degrees.\n"
          ]
        }
      ]
    },
    {
      "cell_type": "code",
      "source": [
        "#3. In this challenge, establish if a given integer num is a Curzon number. If 1 plus 2 elevated to num is exactly divisible by\n",
        "#1 plus 2 multiplied by num, then num is a Curzon number. Given a non-negative integer num, implement a function that returns\n",
        "#True if num is a Curzon number, or False otherwise."
      ],
      "metadata": {
        "id": "G2lOUKIQo4DS"
      },
      "execution_count": 2,
      "outputs": []
    },
    {
      "cell_type": "code",
      "source": [
        "def is_curzon_number(num):\n",
        "    numerator = 2**num + 1\n",
        "    denominator = 2 * num + 1\n",
        "\n",
        "    return numerator % denominator == 0\n",
        "\n",
        "print(is_curzon_number(5))\n",
        "print(is_curzon_number(10))\n"
      ],
      "metadata": {
        "colab": {
          "base_uri": "https://localhost:8080/"
        },
        "id": "yFSP94JsqQaq",
        "outputId": "f835f2d9-480c-4052-9820-6bea26a83a7b"
      },
      "execution_count": 8,
      "outputs": [
        {
          "output_type": "stream",
          "name": "stdout",
          "text": [
            "True\n",
            "False\n"
          ]
        }
      ]
    },
    {
      "cell_type": "code",
      "source": [
        "#4. Given the side length x find the area of a hexagon."
      ],
      "metadata": {
        "id": "JWW0DSPxpA46"
      },
      "execution_count": 3,
      "outputs": []
    },
    {
      "cell_type": "code",
      "source": [
        "import math\n",
        "\n",
        "def hexagon_area(side_length):\n",
        "    area = (3 * math.sqrt(3) / 2) * side_length**2\n",
        "    return area\n",
        "\n",
        "side_length = 5\n",
        "result = hexagon_area(side_length)\n",
        "print(f\"The area of a hexagon with side length {side_length} is approximately {result:.2f}\")\n"
      ],
      "metadata": {
        "colab": {
          "base_uri": "https://localhost:8080/"
        },
        "id": "DS6APFwSqY8p",
        "outputId": "565bc66f-ec9f-4bfd-f945-ade1ee9902bf"
      },
      "execution_count": 9,
      "outputs": [
        {
          "output_type": "stream",
          "name": "stdout",
          "text": [
            "The area of a hexagon with side length 5 is approximately 64.95\n"
          ]
        }
      ]
    },
    {
      "cell_type": "code",
      "source": [
        "#5. Create a function that returns a base-2 (binary) representation of a base-10 (decimal) string number.\n",
        "#To convert is simple: ((2) means base-2 and (10) means base-10) 010101001(2) = 1 + 8 + 32 + 128."
      ],
      "metadata": {
        "id": "B6qob9tCpEMG"
      },
      "execution_count": 10,
      "outputs": []
    },
    {
      "cell_type": "code",
      "source": [
        "def decimal_to_binary(decimal_number):\n",
        "    binary_representation = bin(decimal_number)[2:]\n",
        "    return binary_representation\n",
        "\n",
        "\n",
        "decimal_number = 24\n",
        "binary_result = decimal_to_binary(decimal_number)\n",
        "print(f\"The binary representation of {decimal_number} is: {binary_result}\")\n"
      ],
      "metadata": {
        "colab": {
          "base_uri": "https://localhost:8080/"
        },
        "id": "B2A5Smgtqm7v",
        "outputId": "e0ee80e7-ba29-4545-80b5-aa48774b9e3b"
      },
      "execution_count": 12,
      "outputs": [
        {
          "output_type": "stream",
          "name": "stdout",
          "text": [
            "The binary representation of 24 is: 11000\n"
          ]
        }
      ]
    },
    {
      "cell_type": "code",
      "source": [],
      "metadata": {
        "id": "UsRUdF0xqnkM"
      },
      "execution_count": null,
      "outputs": []
    }
  ]
}